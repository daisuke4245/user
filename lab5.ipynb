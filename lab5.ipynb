{
 "cells": [
  {
   "cell_type": "code",
   "execution_count": 1,
   "id": "0738e062",
   "metadata": {},
   "outputs": [
    {
     "name": "stdout",
     "output_type": "stream",
     "text": [
      "Initial state: [0, 0, 1, 0]\n",
      "Final state: [1. 1. 1. 0.]\n",
      "Energy of final state: -3.0\n"
     ]
    }
   ],
   "source": [
    "import numpy as np\n",
    "class DiscreteHopfieldNetwork:\n",
    "    def __init__(self, num_neurons):\n",
    "        self.num_neurons = num_neurons\n",
    "        self.weights = np.zeros((num_neurons, num_neurons))\n",
    "    def train(self, patterns):\n",
    "        for pattern in patterns:\n",
    "            pattern = np.array(pattern)\n",
    "            outer_product = np.outer(pattern, pattern)\n",
    "            np.fill_diagonal(outer_product, 0)\n",
    "            self.weights += outer_product\n",
    "    def energy(self, state):\n",
    "        state = np.array(state)\n",
    "        return -0.5 * np.dot(state, np.dot(self.weights, state))\n",
    "    def update_rule(self, state):\n",
    "        new_state = np.sign(np.dot(self.weights, state))\n",
    "        new_state[new_state >= 0] = 1\n",
    "        new_state[new_state < 0] = 0\n",
    "        return new_state\n",
    "    def run(self, initial_state, max_iterations=100):\n",
    "        current_state = np.array(initial_state)\n",
    "        for _ in range(max_iterations):\n",
    "            new_state = self.update_rule(current_state)\n",
    "            if np.array_equal(new_state, current_state):\n",
    "                break\n",
    "            \n",
    "        current_state = new_state\n",
    "        return current_state\n",
    "    \n",
    "hopfield_net = DiscreteHopfieldNetwork(4)\n",
    "training_patterns = [[1, 1, 1, -1]]\n",
    "hopfield_net.train(training_patterns)\n",
    "initial_state = [0, 0, 1, 0]\n",
    "result = hopfield_net.run(initial_state)\n",
    "print(\"Initial state:\", initial_state)\n",
    "print(\"Final state:\", result)\n",
    "print(\"Energy of final state:\", hopfield_net.energy(result))"
   ]
  },
  {
   "cell_type": "code",
   "execution_count": null,
   "id": "08186209",
   "metadata": {},
   "outputs": [],
   "source": []
  }
 ],
 "metadata": {
  "kernelspec": {
   "display_name": "Python 3 (ipykernel)",
   "language": "python",
   "name": "python3"
  },
  "language_info": {
   "codemirror_mode": {
    "name": "ipython",
    "version": 3
   },
   "file_extension": ".py",
   "mimetype": "text/x-python",
   "name": "python",
   "nbconvert_exporter": "python",
   "pygments_lexer": "ipython3",
   "version": "3.11.5"
  }
 },
 "nbformat": 4,
 "nbformat_minor": 5
}
