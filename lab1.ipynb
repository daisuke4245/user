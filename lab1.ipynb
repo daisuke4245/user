{
 "cells": [
  {
   "cell_type": "code",
   "execution_count": 1,
   "id": "107bad4d",
   "metadata": {},
   "outputs": [
    {
     "name": "stdout",
     "output_type": "stream",
     "text": [
      "AND Logic Function:\n",
      "Input: (0, 0), Output: 0\n",
      "Input: (0, 1), Output: 0\n",
      "Input: (1, 0), Output: 0\n",
      "Input: (1, 1), Output: 1\n",
      "OR Logic Function:\n",
      "Input: (0, 0), Output: 0\n",
      "Input: (0, 1), Output: 1\n",
      "Input: (1, 0), Output: 1\n",
      "Input: (1, 1), Output: 1\n"
     ]
    }
   ],
   "source": [
    "class McCullochPittsNeuron: \n",
    "    def __init__(self, weights, threshold): \n",
    "        self.weights = weights \n",
    "        self.threshold = threshold \n",
    "\n",
    "    def activate(self, inputs): \n",
    "        weighted_sum = sum([inputs[i] * self.weights[i] for i in range(len(inputs))]) \n",
    "        return 1 if weighted_sum >= self.threshold else 0 \n",
    "\n",
    "# AND Logic Function \n",
    "and_weights = [1, 1] \n",
    "and_threshold = 2 \n",
    "and_neuron = McCullochPittsNeuron(and_weights, and_threshold) \n",
    "\n",
    "# OR Logic Function \n",
    "or_weights = [1, 1] \n",
    "or_threshold = 1 \n",
    "or_neuron = McCullochPittsNeuron(or_weights, or_threshold) \n",
    "\n",
    "# Test AND logic function \n",
    "input_values_and = [(0, 0), (0, 1), (1, 0), (1, 1)] \n",
    "print(\"AND Logic Function:\") \n",
    "for inputs in input_values_and: \n",
    "    output = and_neuron.activate(inputs) \n",
    "    print(f\"Input: {inputs}, Output: {output}\") \n",
    "\n",
    "# Test OR logic function \n",
    "input_values_or = [(0, 0), (0, 1), (1, 0), (1, 1)] \n",
    "print(\"OR Logic Function:\") \n",
    "for inputs in input_values_or: \n",
    "    output = or_neuron.activate(inputs) \n",
    "    print(f\"Input: {inputs}, Output: {output}\")"
   ]
  },
  {
   "cell_type": "code",
   "execution_count": null,
   "id": "093c5277",
   "metadata": {},
   "outputs": [],
   "source": []
  }
 ],
 "metadata": {
  "kernelspec": {
   "display_name": "Python 3 (ipykernel)",
   "language": "python",
   "name": "python3"
  },
  "language_info": {
   "codemirror_mode": {
    "name": "ipython",
    "version": 3
   },
   "file_extension": ".py",
   "mimetype": "text/x-python",
   "name": "python",
   "nbconvert_exporter": "python",
   "pygments_lexer": "ipython3",
   "version": "3.11.5"
  }
 },
 "nbformat": 4,
 "nbformat_minor": 5
}
